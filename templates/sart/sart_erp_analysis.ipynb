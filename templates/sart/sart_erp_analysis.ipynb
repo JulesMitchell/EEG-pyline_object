{
 "cells": [
  {
   "attachments": {},
   "cell_type": "markdown",
   "metadata": {},
   "source": [
    "### (WIP) Sustained Attention Response Time (SART) ERP analysis: peak detection and ERP identification\n",
    "The process of semi-automatically detecting peaks and telling the program whether the peaks are identified as correct ERPs or not. In case ERPs detected are right, the program moves to the next subject, but in case they are not, the user can manually set the ERPs."
   ]
  },
  {
   "cell_type": "code",
   "execution_count": 1,
   "metadata": {
    "pycharm": {
     "name": "#%%\n"
    }
   },
   "outputs": [],
   "source": [
    "# Import packages\n",
    "import mne, os\n",
    "import numpy as np\n",
    "from cmath import nan\n",
    "import matplotlib.pyplot as plt\n",
    "import pandas as pd\n",
    "\n",
    "# Set the default directory\n",
    "os.chdir('/Users/tanijarv/Documents/GitHub/EEG-pyline')\n",
    "mne.set_log_level('error')\n",
    "\n",
    "# Import functions\n",
    "import basic.arrange_data as arrange\n",
    "import signal_processing.erp_analysis as erpan"
   ]
  },
  {
   "attachments": {},
   "cell_type": "markdown",
   "metadata": {},
   "source": [
    "Define these variables!"
   ]
  },
  {
   "cell_type": "code",
   "execution_count": 11,
   "metadata": {
    "pycharm": {
     "name": "#%%\n"
    }
   },
   "outputs": [],
   "source": [
    "# Folder where to get the clean epochs files\n",
    "clean_folder = 'Data/Clean/'\n",
    "\n",
    "# Folder where to save the results and plots\n",
    "results_foldername = 'Results/'\n",
    "\n",
    "# Sub-folder for the experiment (i.e. timepoint or group) and its acronym\n",
    "exp_folder = 'LEISURE/T1/SART'\n",
    "exp_condition = 'SART_T1'\n",
    "\n",
    "tminmax = [-200, 1000]\n",
    "\n",
    "# Time windows for different ERP components\n",
    "# {'ERP_name' : [t1, t2, pos/neg]}\n",
    "erp_wins = {'N2' : [180, 350, -1],\n",
    "            'P3' : [270, 500, 1]}\n",
    "\n",
    "# Channel of interest\n",
    "channel_picks = 'Cz'\n",
    "\n",
    "# Event names (i.e. different stimuli) within the epochs\n",
    "event_list = ['GO trial', 'NO-GO trial']"
   ]
  },
  {
   "attachments": {},
   "cell_type": "markdown",
   "metadata": {},
   "source": [
    "Run this to set the folders for data."
   ]
  },
  {
   "cell_type": "code",
   "execution_count": 3,
   "metadata": {},
   "outputs": [
    {
     "name": "stdout",
     "output_type": "stream",
     "text": [
      "Files in Data/Clean/LEISURE/T1/SART read in: 4\n"
     ]
    }
   ],
   "source": [
    "# Get directories of clean EEG files and set export directory\n",
    "dir_inprogress = os.path.join(clean_folder, exp_folder)\n",
    "file_dirs, subject_names = arrange.read_files(dir_inprogress, '_clean-epo.fif')"
   ]
  },
  {
   "attachments": {},
   "cell_type": "markdown",
   "metadata": {},
   "source": [
    "Run this to detect and identify ERP components."
   ]
  },
  {
   "cell_type": "code",
   "execution_count": 13,
   "metadata": {},
   "outputs": [
    {
     "name": "stdout",
     "output_type": "stream",
     "text": [
      "GO trial for HBA_0001_SART_T1 (0/4)\n"
     ]
    },
    {
     "data": {
      "image/png": "[encoded data removed]",
      "text/plain": [
       "<Figure size 576x216 with 1 Axes>"
      ]
     },
     "metadata": {
      "needs_background": "light"
     },
     "output_type": "display_data"
    },
    {
     "name": "stdout",
     "output_type": "stream",
     "text": [
      "ERPs have been found and added to the dataframe for HBA_0001_SART_T1\n"
     ]
    },
    {
     "data": {
      "text/html": [
       "<div>\n",
       "<style scoped>\n",
       "    .dataframe tbody tr th:only-of-type {\n",
       "        vertical-align: middle;\n",
       "    }\n",
       "\n",
       "    .dataframe tbody tr th {\n",
       "        vertical-align: top;\n",
       "    }\n",
       "\n",
       "    .dataframe thead th {\n",
       "        text-align: right;\n",
       "    }\n",
       "</style>\n",
       "<table border=\"1\" class=\"dataframe\">\n",
       "  <thead>\n",
       "    <tr style=\"text-align: right;\">\n",
       "      <th></th>\n",
       "      <th>N2 latency</th>\n",
       "      <th>P3 latency</th>\n",
       "      <th>N2 amplitude</th>\n",
       "      <th>P3 amplitude</th>\n",
       "      <th>Event</th>\n",
       "      <th>Channel</th>\n",
       "    </tr>\n",
       "  </thead>\n",
       "  <tbody>\n",
       "    <tr>\n",
       "      <th>HBA_0001_SART_T1</th>\n",
       "      <td>296.875</td>\n",
       "      <td>NaN</td>\n",
       "      <td>-4.050822</td>\n",
       "      <td>NaN</td>\n",
       "      <td>GO trial</td>\n",
       "      <td>Cz</td>\n",
       "    </tr>\n",
       "  </tbody>\n",
       "</table>\n",
       "</div>"
      ],
      "text/plain": [
       "                  N2 latency  P3 latency  N2 amplitude  P3 amplitude  \\\n",
       "HBA_0001_SART_T1     296.875         NaN     -4.050822           NaN   \n",
       "\n",
       "                     Event Channel  \n",
       "HBA_0001_SART_T1  GO trial      Cz  "
      ]
     },
     "metadata": {},
     "output_type": "display_data"
    },
    {
     "name": "stdout",
     "output_type": "stream",
     "text": [
      "NO-GO trial for HBA_0001_SART_T1 (0/4)\n"
     ]
    },
    {
     "data": {
      "image/png": "[encoded data removed]",
      "text/plain": [
       "<Figure size 576x216 with 1 Axes>"
      ]
     },
     "metadata": {
      "needs_background": "light"
     },
     "output_type": "display_data"
    },
    {
     "name": "stdout",
     "output_type": "stream",
     "text": [
      "ERPs have been found and added to the dataframe for HBA_0001_SART_T1\n"
     ]
    },
    {
     "data": {
      "text/html": [
       "<div>\n",
       "<style scoped>\n",
       "    .dataframe tbody tr th:only-of-type {\n",
       "        vertical-align: middle;\n",
       "    }\n",
       "\n",
       "    .dataframe tbody tr th {\n",
       "        vertical-align: top;\n",
       "    }\n",
       "\n",
       "    .dataframe thead th {\n",
       "        text-align: right;\n",
       "    }\n",
       "</style>\n",
       "<table border=\"1\" class=\"dataframe\">\n",
       "  <thead>\n",
       "    <tr style=\"text-align: right;\">\n",
       "      <th></th>\n",
       "      <th>N2 latency</th>\n",
       "      <th>P3 latency</th>\n",
       "      <th>N2 amplitude</th>\n",
       "      <th>P3 amplitude</th>\n",
       "      <th>Event</th>\n",
       "      <th>Channel</th>\n",
       "    </tr>\n",
       "  </thead>\n",
       "  <tbody>\n",
       "    <tr>\n",
       "      <th>HBA_0001_SART_T1</th>\n",
       "      <td>296.875000</td>\n",
       "      <td>NaN</td>\n",
       "      <td>-4.050822</td>\n",
       "      <td>NaN</td>\n",
       "      <td>GO trial</td>\n",
       "      <td>Cz</td>\n",
       "    </tr>\n",
       "    <tr>\n",
       "      <th>HBA_0001_SART_T1</th>\n",
       "      <td>250.976562</td>\n",
       "      <td>NaN</td>\n",
       "      <td>-2.572810</td>\n",
       "      <td>NaN</td>\n",
       "      <td>NO-GO trial</td>\n",
       "      <td>Cz</td>\n",
       "    </tr>\n",
       "  </tbody>\n",
       "</table>\n",
       "</div>"
      ],
      "text/plain": [
       "                  N2 latency  P3 latency  N2 amplitude  P3 amplitude  \\\n",
       "HBA_0001_SART_T1  296.875000         NaN     -4.050822           NaN   \n",
       "HBA_0001_SART_T1  250.976562         NaN     -2.572810           NaN   \n",
       "\n",
       "                        Event Channel  \n",
       "HBA_0001_SART_T1     GO trial      Cz  \n",
       "HBA_0001_SART_T1  NO-GO trial      Cz  "
      ]
     },
     "metadata": {},
     "output_type": "display_data"
    },
    {
     "name": "stdout",
     "output_type": "stream",
     "text": [
      "GO trial for HBA_0003_SART_T1 (1/4)\n"
     ]
    },
    {
     "data": {
      "image/png": "[encoded data removed]",
      "text/plain": [
       "<Figure size 576x216 with 1 Axes>"
      ]
     },
     "metadata": {
      "needs_background": "light"
     },
     "output_type": "display_data"
    },
    {
     "name": "stdout",
     "output_type": "stream",
     "text": [
      "ERPs have been found and added to the dataframe for HBA_0003_SART_T1\n"
     ]
    },
    {
     "data": {
      "text/html": [
       "<div>\n",
       "<style scoped>\n",
       "    .dataframe tbody tr th:only-of-type {\n",
       "        vertical-align: middle;\n",
       "    }\n",
       "\n",
       "    .dataframe tbody tr th {\n",
       "        vertical-align: top;\n",
       "    }\n",
       "\n",
       "    .dataframe thead th {\n",
       "        text-align: right;\n",
       "    }\n",
       "</style>\n",
       "<table border=\"1\" class=\"dataframe\">\n",
       "  <thead>\n",
       "    <tr style=\"text-align: right;\">\n",
       "      <th></th>\n",
       "      <th>N2 latency</th>\n",
       "      <th>P3 latency</th>\n",
       "      <th>N2 amplitude</th>\n",
       "      <th>P3 amplitude</th>\n",
       "      <th>Event</th>\n",
       "      <th>Channel</th>\n",
       "    </tr>\n",
       "  </thead>\n",
       "  <tbody>\n",
       "    <tr>\n",
       "      <th>HBA_0001_SART_T1</th>\n",
       "      <td>296.875000</td>\n",
       "      <td>NaN</td>\n",
       "      <td>-4.050822</td>\n",
       "      <td>NaN</td>\n",
       "      <td>GO trial</td>\n",
       "      <td>Cz</td>\n",
       "    </tr>\n",
       "    <tr>\n",
       "      <th>HBA_0001_SART_T1</th>\n",
       "      <td>250.976562</td>\n",
       "      <td>NaN</td>\n",
       "      <td>-2.572810</td>\n",
       "      <td>NaN</td>\n",
       "      <td>NO-GO trial</td>\n",
       "      <td>Cz</td>\n",
       "    </tr>\n",
       "    <tr>\n",
       "      <th>HBA_0003_SART_T1</th>\n",
       "      <td>300.781250</td>\n",
       "      <td>403.320312</td>\n",
       "      <td>-2.517506</td>\n",
       "      <td>1.856077</td>\n",
       "      <td>GO trial</td>\n",
       "      <td>Cz</td>\n",
       "    </tr>\n",
       "  </tbody>\n",
       "</table>\n",
       "</div>"
      ],
      "text/plain": [
       "                  N2 latency  P3 latency  N2 amplitude  P3 amplitude  \\\n",
       "HBA_0001_SART_T1  296.875000         NaN     -4.050822           NaN   \n",
       "HBA_0001_SART_T1  250.976562         NaN     -2.572810           NaN   \n",
       "HBA_0003_SART_T1  300.781250  403.320312     -2.517506      1.856077   \n",
       "\n",
       "                        Event Channel  \n",
       "HBA_0001_SART_T1     GO trial      Cz  \n",
       "HBA_0001_SART_T1  NO-GO trial      Cz  \n",
       "HBA_0003_SART_T1     GO trial      Cz  "
      ]
     },
     "metadata": {},
     "output_type": "display_data"
    },
    {
     "name": "stdout",
     "output_type": "stream",
     "text": [
      "NO-GO trial for HBA_0003_SART_T1 (1/4)\n"
     ]
    },
    {
     "data": {
      "image/png": "[encoded data removed]",
      "text/plain": [
       "<Figure size 576x216 with 1 Axes>"
      ]
     },
     "metadata": {
      "needs_background": "light"
     },
     "output_type": "display_data"
    },
    {
     "name": "stdout",
     "output_type": "stream",
     "text": [
      "ERPs have been found and added to the dataframe for HBA_0003_SART_T1\n"
     ]
    },
    {
     "data": {
      "text/html": [
       "<div>\n",
       "<style scoped>\n",
       "    .dataframe tbody tr th:only-of-type {\n",
       "        vertical-align: middle;\n",
       "    }\n",
       "\n",
       "    .dataframe tbody tr th {\n",
       "        vertical-align: top;\n",
       "    }\n",
       "\n",
       "    .dataframe thead th {\n",
       "        text-align: right;\n",
       "    }\n",
       "</style>\n",
       "<table border=\"1\" class=\"dataframe\">\n",
       "  <thead>\n",
       "    <tr style=\"text-align: right;\">\n",
       "      <th></th>\n",
       "      <th>N2 latency</th>\n",
       "      <th>P3 latency</th>\n",
       "      <th>N2 amplitude</th>\n",
       "      <th>P3 amplitude</th>\n",
       "      <th>Event</th>\n",
       "      <th>Channel</th>\n",
       "    </tr>\n",
       "  </thead>\n",
       "  <tbody>\n",
       "    <tr>\n",
       "      <th>HBA_0001_SART_T1</th>\n",
       "      <td>296.875000</td>\n",
       "      <td>NaN</td>\n",
       "      <td>-4.050822</td>\n",
       "      <td>NaN</td>\n",
       "      <td>GO trial</td>\n",
       "      <td>Cz</td>\n",
       "    </tr>\n",
       "    <tr>\n",
       "      <th>HBA_0001_SART_T1</th>\n",
       "      <td>250.976562</td>\n",
       "      <td>NaN</td>\n",
       "      <td>-2.572810</td>\n",
       "      <td>NaN</td>\n",
       "      <td>NO-GO trial</td>\n",
       "      <td>Cz</td>\n",
       "    </tr>\n",
       "    <tr>\n",
       "      <th>HBA_0003_SART_T1</th>\n",
       "      <td>300.781250</td>\n",
       "      <td>403.320312</td>\n",
       "      <td>-2.517506</td>\n",
       "      <td>1.856077</td>\n",
       "      <td>GO trial</td>\n",
       "      <td>Cz</td>\n",
       "    </tr>\n",
       "    <tr>\n",
       "      <th>HBA_0003_SART_T1</th>\n",
       "      <td>299.804688</td>\n",
       "      <td>NaN</td>\n",
       "      <td>-1.683058</td>\n",
       "      <td>NaN</td>\n",
       "      <td>NO-GO trial</td>\n",
       "      <td>Cz</td>\n",
       "    </tr>\n",
       "  </tbody>\n",
       "</table>\n",
       "</div>"
      ],
      "text/plain": [
       "                  N2 latency  P3 latency  N2 amplitude  P3 amplitude  \\\n",
       "HBA_0001_SART_T1  296.875000         NaN     -4.050822           NaN   \n",
       "HBA_0001_SART_T1  250.976562         NaN     -2.572810           NaN   \n",
       "HBA_0003_SART_T1  300.781250  403.320312     -2.517506      1.856077   \n",
       "HBA_0003_SART_T1  299.804688         NaN     -1.683058           NaN   \n",
       "\n",
       "                        Event Channel  \n",
       "HBA_0001_SART_T1     GO trial      Cz  \n",
       "HBA_0001_SART_T1  NO-GO trial      Cz  \n",
       "HBA_0003_SART_T1     GO trial      Cz  \n",
       "HBA_0003_SART_T1  NO-GO trial      Cz  "
      ]
     },
     "metadata": {},
     "output_type": "display_data"
    },
    {
     "name": "stdout",
     "output_type": "stream",
     "text": [
      "GO trial for HBA_0004_SART_T1 (2/4)\n"
     ]
    },
    {
     "data": {
      "image/png": "[encoded data removed]",
      "text/plain": [
       "<Figure size 576x216 with 1 Axes>"
      ]
     },
     "metadata": {
      "needs_background": "light"
     },
     "output_type": "display_data"
    },
    {
     "name": "stdout",
     "output_type": "stream",
     "text": [
      "ERPs have been found and added to the dataframe for HBA_0004_SART_T1\n"
     ]
    },
    {
     "data": {
      "text/html": [
       "<div>\n",
       "<style scoped>\n",
       "    .dataframe tbody tr th:only-of-type {\n",
       "        vertical-align: middle;\n",
       "    }\n",
       "\n",
       "    .dataframe tbody tr th {\n",
       "        vertical-align: top;\n",
       "    }\n",
       "\n",
       "    .dataframe thead th {\n",
       "        text-align: right;\n",
       "    }\n",
       "</style>\n",
       "<table border=\"1\" class=\"dataframe\">\n",
       "  <thead>\n",
       "    <tr style=\"text-align: right;\">\n",
       "      <th></th>\n",
       "      <th>N2 latency</th>\n",
       "      <th>P3 latency</th>\n",
       "      <th>N2 amplitude</th>\n",
       "      <th>P3 amplitude</th>\n",
       "      <th>Event</th>\n",
       "      <th>Channel</th>\n",
       "    </tr>\n",
       "  </thead>\n",
       "  <tbody>\n",
       "    <tr>\n",
       "      <th>HBA_0001_SART_T1</th>\n",
       "      <td>296.875000</td>\n",
       "      <td>NaN</td>\n",
       "      <td>-4.050822</td>\n",
       "      <td>NaN</td>\n",
       "      <td>GO trial</td>\n",
       "      <td>Cz</td>\n",
       "    </tr>\n",
       "    <tr>\n",
       "      <th>HBA_0001_SART_T1</th>\n",
       "      <td>250.976562</td>\n",
       "      <td>NaN</td>\n",
       "      <td>-2.572810</td>\n",
       "      <td>NaN</td>\n",
       "      <td>NO-GO trial</td>\n",
       "      <td>Cz</td>\n",
       "    </tr>\n",
       "    <tr>\n",
       "      <th>HBA_0003_SART_T1</th>\n",
       "      <td>300.781250</td>\n",
       "      <td>403.320312</td>\n",
       "      <td>-2.517506</td>\n",
       "      <td>1.856077</td>\n",
       "      <td>GO trial</td>\n",
       "      <td>Cz</td>\n",
       "    </tr>\n",
       "    <tr>\n",
       "      <th>HBA_0003_SART_T1</th>\n",
       "      <td>299.804688</td>\n",
       "      <td>NaN</td>\n",
       "      <td>-1.683058</td>\n",
       "      <td>NaN</td>\n",
       "      <td>NO-GO trial</td>\n",
       "      <td>Cz</td>\n",
       "    </tr>\n",
       "    <tr>\n",
       "      <th>HBA_0004_SART_T1</th>\n",
       "      <td>300.781250</td>\n",
       "      <td>428.710938</td>\n",
       "      <td>-4.841619</td>\n",
       "      <td>3.745975</td>\n",
       "      <td>GO trial</td>\n",
       "      <td>Cz</td>\n",
       "    </tr>\n",
       "  </tbody>\n",
       "</table>\n",
       "</div>"
      ],
      "text/plain": [
       "                  N2 latency  P3 latency  N2 amplitude  P3 amplitude  \\\n",
       "HBA_0001_SART_T1  296.875000         NaN     -4.050822           NaN   \n",
       "HBA_0001_SART_T1  250.976562         NaN     -2.572810           NaN   \n",
       "HBA_0003_SART_T1  300.781250  403.320312     -2.517506      1.856077   \n",
       "HBA_0003_SART_T1  299.804688         NaN     -1.683058           NaN   \n",
       "HBA_0004_SART_T1  300.781250  428.710938     -4.841619      3.745975   \n",
       "\n",
       "                        Event Channel  \n",
       "HBA_0001_SART_T1     GO trial      Cz  \n",
       "HBA_0001_SART_T1  NO-GO trial      Cz  \n",
       "HBA_0003_SART_T1     GO trial      Cz  \n",
       "HBA_0003_SART_T1  NO-GO trial      Cz  \n",
       "HBA_0004_SART_T1     GO trial      Cz  "
      ]
     },
     "metadata": {},
     "output_type": "display_data"
    },
    {
     "name": "stdout",
     "output_type": "stream",
     "text": [
      "NO-GO trial for HBA_0004_SART_T1 (2/4)\n"
     ]
    },
    {
     "data": {
      "image/png": "[encoded data removed]",
      "text/plain": [
       "<Figure size 576x216 with 1 Axes>"
      ]
     },
     "metadata": {
      "needs_background": "light"
     },
     "output_type": "display_data"
    },
    {
     "name": "stdout",
     "output_type": "stream",
     "text": [
      "ERPs have been found and added to the dataframe for HBA_0004_SART_T1\n"
     ]
    },
    {
     "data": {
      "text/html": [
       "<div>\n",
       "<style scoped>\n",
       "    .dataframe tbody tr th:only-of-type {\n",
       "        vertical-align: middle;\n",
       "    }\n",
       "\n",
       "    .dataframe tbody tr th {\n",
       "        vertical-align: top;\n",
       "    }\n",
       "\n",
       "    .dataframe thead th {\n",
       "        text-align: right;\n",
       "    }\n",
       "</style>\n",
       "<table border=\"1\" class=\"dataframe\">\n",
       "  <thead>\n",
       "    <tr style=\"text-align: right;\">\n",
       "      <th></th>\n",
       "      <th>N2 latency</th>\n",
       "      <th>P3 latency</th>\n",
       "      <th>N2 amplitude</th>\n",
       "      <th>P3 amplitude</th>\n",
       "      <th>Event</th>\n",
       "      <th>Channel</th>\n",
       "    </tr>\n",
       "  </thead>\n",
       "  <tbody>\n",
       "    <tr>\n",
       "      <th>HBA_0001_SART_T1</th>\n",
       "      <td>296.875000</td>\n",
       "      <td>NaN</td>\n",
       "      <td>-4.050822</td>\n",
       "      <td>NaN</td>\n",
       "      <td>GO trial</td>\n",
       "      <td>Cz</td>\n",
       "    </tr>\n",
       "    <tr>\n",
       "      <th>HBA_0001_SART_T1</th>\n",
       "      <td>250.976562</td>\n",
       "      <td>NaN</td>\n",
       "      <td>-2.572810</td>\n",
       "      <td>NaN</td>\n",
       "      <td>NO-GO trial</td>\n",
       "      <td>Cz</td>\n",
       "    </tr>\n",
       "    <tr>\n",
       "      <th>HBA_0003_SART_T1</th>\n",
       "      <td>300.781250</td>\n",
       "      <td>403.320312</td>\n",
       "      <td>-2.517506</td>\n",
       "      <td>1.856077</td>\n",
       "      <td>GO trial</td>\n",
       "      <td>Cz</td>\n",
       "    </tr>\n",
       "    <tr>\n",
       "      <th>HBA_0003_SART_T1</th>\n",
       "      <td>299.804688</td>\n",
       "      <td>NaN</td>\n",
       "      <td>-1.683058</td>\n",
       "      <td>NaN</td>\n",
       "      <td>NO-GO trial</td>\n",
       "      <td>Cz</td>\n",
       "    </tr>\n",
       "    <tr>\n",
       "      <th>HBA_0004_SART_T1</th>\n",
       "      <td>300.781250</td>\n",
       "      <td>428.710938</td>\n",
       "      <td>-4.841619</td>\n",
       "      <td>3.745975</td>\n",
       "      <td>GO trial</td>\n",
       "      <td>Cz</td>\n",
       "    </tr>\n",
       "    <tr>\n",
       "      <th>HBA_0004_SART_T1</th>\n",
       "      <td>302.734375</td>\n",
       "      <td>488.281250</td>\n",
       "      <td>-5.779026</td>\n",
       "      <td>6.044084</td>\n",
       "      <td>NO-GO trial</td>\n",
       "      <td>Cz</td>\n",
       "    </tr>\n",
       "  </tbody>\n",
       "</table>\n",
       "</div>"
      ],
      "text/plain": [
       "                  N2 latency  P3 latency  N2 amplitude  P3 amplitude  \\\n",
       "HBA_0001_SART_T1  296.875000         NaN     -4.050822           NaN   \n",
       "HBA_0001_SART_T1  250.976562         NaN     -2.572810           NaN   \n",
       "HBA_0003_SART_T1  300.781250  403.320312     -2.517506      1.856077   \n",
       "HBA_0003_SART_T1  299.804688         NaN     -1.683058           NaN   \n",
       "HBA_0004_SART_T1  300.781250  428.710938     -4.841619      3.745975   \n",
       "HBA_0004_SART_T1  302.734375  488.281250     -5.779026      6.044084   \n",
       "\n",
       "                        Event Channel  \n",
       "HBA_0001_SART_T1     GO trial      Cz  \n",
       "HBA_0001_SART_T1  NO-GO trial      Cz  \n",
       "HBA_0003_SART_T1     GO trial      Cz  \n",
       "HBA_0003_SART_T1  NO-GO trial      Cz  \n",
       "HBA_0004_SART_T1     GO trial      Cz  \n",
       "HBA_0004_SART_T1  NO-GO trial      Cz  "
      ]
     },
     "metadata": {},
     "output_type": "display_data"
    },
    {
     "name": "stdout",
     "output_type": "stream",
     "text": [
      "GO trial for HBA_0005_SART_T1 (3/4)\n"
     ]
    },
    {
     "data": {
      "image/png": "[encoded data removed]",
      "text/plain": [
       "<Figure size 576x216 with 1 Axes>"
      ]
     },
     "metadata": {
      "needs_background": "light"
     },
     "output_type": "display_data"
    },
    {
     "name": "stdout",
     "output_type": "stream",
     "text": [
      "ERPs have been found and added to the dataframe for HBA_0005_SART_T1\n"
     ]
    },
    {
     "data": {
      "text/html": [
       "<div>\n",
       "<style scoped>\n",
       "    .dataframe tbody tr th:only-of-type {\n",
       "        vertical-align: middle;\n",
       "    }\n",
       "\n",
       "    .dataframe tbody tr th {\n",
       "        vertical-align: top;\n",
       "    }\n",
       "\n",
       "    .dataframe thead th {\n",
       "        text-align: right;\n",
       "    }\n",
       "</style>\n",
       "<table border=\"1\" class=\"dataframe\">\n",
       "  <thead>\n",
       "    <tr style=\"text-align: right;\">\n",
       "      <th></th>\n",
       "      <th>N2 latency</th>\n",
       "      <th>P3 latency</th>\n",
       "      <th>N2 amplitude</th>\n",
       "      <th>P3 amplitude</th>\n",
       "      <th>Event</th>\n",
       "      <th>Channel</th>\n",
       "    </tr>\n",
       "  </thead>\n",
       "  <tbody>\n",
       "    <tr>\n",
       "      <th>HBA_0001_SART_T1</th>\n",
       "      <td>296.875000</td>\n",
       "      <td>NaN</td>\n",
       "      <td>-4.050822</td>\n",
       "      <td>NaN</td>\n",
       "      <td>GO trial</td>\n",
       "      <td>Cz</td>\n",
       "    </tr>\n",
       "    <tr>\n",
       "      <th>HBA_0001_SART_T1</th>\n",
       "      <td>250.976562</td>\n",
       "      <td>NaN</td>\n",
       "      <td>-2.572810</td>\n",
       "      <td>NaN</td>\n",
       "      <td>NO-GO trial</td>\n",
       "      <td>Cz</td>\n",
       "    </tr>\n",
       "    <tr>\n",
       "      <th>HBA_0003_SART_T1</th>\n",
       "      <td>300.781250</td>\n",
       "      <td>403.320312</td>\n",
       "      <td>-2.517506</td>\n",
       "      <td>1.856077</td>\n",
       "      <td>GO trial</td>\n",
       "      <td>Cz</td>\n",
       "    </tr>\n",
       "    <tr>\n",
       "      <th>HBA_0003_SART_T1</th>\n",
       "      <td>299.804688</td>\n",
       "      <td>NaN</td>\n",
       "      <td>-1.683058</td>\n",
       "      <td>NaN</td>\n",
       "      <td>NO-GO trial</td>\n",
       "      <td>Cz</td>\n",
       "    </tr>\n",
       "    <tr>\n",
       "      <th>HBA_0004_SART_T1</th>\n",
       "      <td>300.781250</td>\n",
       "      <td>428.710938</td>\n",
       "      <td>-4.841619</td>\n",
       "      <td>3.745975</td>\n",
       "      <td>GO trial</td>\n",
       "      <td>Cz</td>\n",
       "    </tr>\n",
       "    <tr>\n",
       "      <th>HBA_0004_SART_T1</th>\n",
       "      <td>302.734375</td>\n",
       "      <td>488.281250</td>\n",
       "      <td>-5.779026</td>\n",
       "      <td>6.044084</td>\n",
       "      <td>NO-GO trial</td>\n",
       "      <td>Cz</td>\n",
       "    </tr>\n",
       "    <tr>\n",
       "      <th>HBA_0005_SART_T1</th>\n",
       "      <td>258.789062</td>\n",
       "      <td>493.164062</td>\n",
       "      <td>-2.811082</td>\n",
       "      <td>2.376620</td>\n",
       "      <td>GO trial</td>\n",
       "      <td>Cz</td>\n",
       "    </tr>\n",
       "  </tbody>\n",
       "</table>\n",
       "</div>"
      ],
      "text/plain": [
       "                  N2 latency  P3 latency  N2 amplitude  P3 amplitude  \\\n",
       "HBA_0001_SART_T1  296.875000         NaN     -4.050822           NaN   \n",
       "HBA_0001_SART_T1  250.976562         NaN     -2.572810           NaN   \n",
       "HBA_0003_SART_T1  300.781250  403.320312     -2.517506      1.856077   \n",
       "HBA_0003_SART_T1  299.804688         NaN     -1.683058           NaN   \n",
       "HBA_0004_SART_T1  300.781250  428.710938     -4.841619      3.745975   \n",
       "HBA_0004_SART_T1  302.734375  488.281250     -5.779026      6.044084   \n",
       "HBA_0005_SART_T1  258.789062  493.164062     -2.811082      2.376620   \n",
       "\n",
       "                        Event Channel  \n",
       "HBA_0001_SART_T1     GO trial      Cz  \n",
       "HBA_0001_SART_T1  NO-GO trial      Cz  \n",
       "HBA_0003_SART_T1     GO trial      Cz  \n",
       "HBA_0003_SART_T1  NO-GO trial      Cz  \n",
       "HBA_0004_SART_T1     GO trial      Cz  \n",
       "HBA_0004_SART_T1  NO-GO trial      Cz  \n",
       "HBA_0005_SART_T1     GO trial      Cz  "
      ]
     },
     "metadata": {},
     "output_type": "display_data"
    },
    {
     "name": "stdout",
     "output_type": "stream",
     "text": [
      "NO-GO trial for HBA_0005_SART_T1 (3/4)\n"
     ]
    },
    {
     "data": {
      "image/png": "[encoded data removed]",
      "text/plain": [
       "<Figure size 576x216 with 1 Axes>"
      ]
     },
     "metadata": {
      "needs_background": "light"
     },
     "output_type": "display_data"
    },
    {
     "name": "stdout",
     "output_type": "stream",
     "text": [
      "ERPs have been found and added to the dataframe for HBA_0005_SART_T1\n"
     ]
    },
    {
     "data": {
      "text/html": [
       "<div>\n",
       "<style scoped>\n",
       "    .dataframe tbody tr th:only-of-type {\n",
       "        vertical-align: middle;\n",
       "    }\n",
       "\n",
       "    .dataframe tbody tr th {\n",
       "        vertical-align: top;\n",
       "    }\n",
       "\n",
       "    .dataframe thead th {\n",
       "        text-align: right;\n",
       "    }\n",
       "</style>\n",
       "<table border=\"1\" class=\"dataframe\">\n",
       "  <thead>\n",
       "    <tr style=\"text-align: right;\">\n",
       "      <th></th>\n",
       "      <th>N2 latency</th>\n",
       "      <th>P3 latency</th>\n",
       "      <th>N2 amplitude</th>\n",
       "      <th>P3 amplitude</th>\n",
       "      <th>Event</th>\n",
       "      <th>Channel</th>\n",
       "    </tr>\n",
       "  </thead>\n",
       "  <tbody>\n",
       "    <tr>\n",
       "      <th>HBA_0001_SART_T1</th>\n",
       "      <td>296.875000</td>\n",
       "      <td>NaN</td>\n",
       "      <td>-4.050822</td>\n",
       "      <td>NaN</td>\n",
       "      <td>GO trial</td>\n",
       "      <td>Cz</td>\n",
       "    </tr>\n",
       "    <tr>\n",
       "      <th>HBA_0001_SART_T1</th>\n",
       "      <td>250.976562</td>\n",
       "      <td>NaN</td>\n",
       "      <td>-2.572810</td>\n",
       "      <td>NaN</td>\n",
       "      <td>NO-GO trial</td>\n",
       "      <td>Cz</td>\n",
       "    </tr>\n",
       "    <tr>\n",
       "      <th>HBA_0003_SART_T1</th>\n",
       "      <td>300.781250</td>\n",
       "      <td>403.320312</td>\n",
       "      <td>-2.517506</td>\n",
       "      <td>1.856077</td>\n",
       "      <td>GO trial</td>\n",
       "      <td>Cz</td>\n",
       "    </tr>\n",
       "    <tr>\n",
       "      <th>HBA_0003_SART_T1</th>\n",
       "      <td>299.804688</td>\n",
       "      <td>NaN</td>\n",
       "      <td>-1.683058</td>\n",
       "      <td>NaN</td>\n",
       "      <td>NO-GO trial</td>\n",
       "      <td>Cz</td>\n",
       "    </tr>\n",
       "    <tr>\n",
       "      <th>HBA_0004_SART_T1</th>\n",
       "      <td>300.781250</td>\n",
       "      <td>428.710938</td>\n",
       "      <td>-4.841619</td>\n",
       "      <td>3.745975</td>\n",
       "      <td>GO trial</td>\n",
       "      <td>Cz</td>\n",
       "    </tr>\n",
       "    <tr>\n",
       "      <th>HBA_0004_SART_T1</th>\n",
       "      <td>302.734375</td>\n",
       "      <td>488.281250</td>\n",
       "      <td>-5.779026</td>\n",
       "      <td>6.044084</td>\n",
       "      <td>NO-GO trial</td>\n",
       "      <td>Cz</td>\n",
       "    </tr>\n",
       "    <tr>\n",
       "      <th>HBA_0005_SART_T1</th>\n",
       "      <td>258.789062</td>\n",
       "      <td>493.164062</td>\n",
       "      <td>-2.811082</td>\n",
       "      <td>2.376620</td>\n",
       "      <td>GO trial</td>\n",
       "      <td>Cz</td>\n",
       "    </tr>\n",
       "    <tr>\n",
       "      <th>HBA_0005_SART_T1</th>\n",
       "      <td>303.710938</td>\n",
       "      <td>419.921875</td>\n",
       "      <td>-3.622827</td>\n",
       "      <td>7.938980</td>\n",
       "      <td>NO-GO trial</td>\n",
       "      <td>Cz</td>\n",
       "    </tr>\n",
       "  </tbody>\n",
       "</table>\n",
       "</div>"
      ],
      "text/plain": [
       "                  N2 latency  P3 latency  N2 amplitude  P3 amplitude  \\\n",
       "HBA_0001_SART_T1  296.875000         NaN     -4.050822           NaN   \n",
       "HBA_0001_SART_T1  250.976562         NaN     -2.572810           NaN   \n",
       "HBA_0003_SART_T1  300.781250  403.320312     -2.517506      1.856077   \n",
       "HBA_0003_SART_T1  299.804688         NaN     -1.683058           NaN   \n",
       "HBA_0004_SART_T1  300.781250  428.710938     -4.841619      3.745975   \n",
       "HBA_0004_SART_T1  302.734375  488.281250     -5.779026      6.044084   \n",
       "HBA_0005_SART_T1  258.789062  493.164062     -2.811082      2.376620   \n",
       "HBA_0005_SART_T1  303.710938  419.921875     -3.622827      7.938980   \n",
       "\n",
       "                        Event Channel  \n",
       "HBA_0001_SART_T1     GO trial      Cz  \n",
       "HBA_0001_SART_T1  NO-GO trial      Cz  \n",
       "HBA_0003_SART_T1     GO trial      Cz  \n",
       "HBA_0003_SART_T1  NO-GO trial      Cz  \n",
       "HBA_0004_SART_T1     GO trial      Cz  \n",
       "HBA_0004_SART_T1  NO-GO trial      Cz  \n",
       "HBA_0005_SART_T1     GO trial      Cz  \n",
       "HBA_0005_SART_T1  NO-GO trial      Cz  "
      ]
     },
     "metadata": {},
     "output_type": "display_data"
    },
    {
     "data": {
      "text/html": [
       "<div>\n",
       "<style scoped>\n",
       "    .dataframe tbody tr th:only-of-type {\n",
       "        vertical-align: middle;\n",
       "    }\n",
       "\n",
       "    .dataframe tbody tr th {\n",
       "        vertical-align: top;\n",
       "    }\n",
       "\n",
       "    .dataframe thead th {\n",
       "        text-align: right;\n",
       "    }\n",
       "</style>\n",
       "<table border=\"1\" class=\"dataframe\">\n",
       "  <thead>\n",
       "    <tr style=\"text-align: right;\">\n",
       "      <th></th>\n",
       "      <th>N2 latency</th>\n",
       "      <th>P3 latency</th>\n",
       "      <th>N2 amplitude</th>\n",
       "      <th>P3 amplitude</th>\n",
       "      <th>Event</th>\n",
       "      <th>Channel</th>\n",
       "    </tr>\n",
       "  </thead>\n",
       "  <tbody>\n",
       "    <tr>\n",
       "      <th>HBA_0001_SART_T1</th>\n",
       "      <td>296.875000</td>\n",
       "      <td>NaN</td>\n",
       "      <td>-4.050822</td>\n",
       "      <td>NaN</td>\n",
       "      <td>GO trial</td>\n",
       "      <td>Cz</td>\n",
       "    </tr>\n",
       "    <tr>\n",
       "      <th>HBA_0001_SART_T1</th>\n",
       "      <td>250.976562</td>\n",
       "      <td>NaN</td>\n",
       "      <td>-2.572810</td>\n",
       "      <td>NaN</td>\n",
       "      <td>NO-GO trial</td>\n",
       "      <td>Cz</td>\n",
       "    </tr>\n",
       "    <tr>\n",
       "      <th>HBA_0003_SART_T1</th>\n",
       "      <td>300.781250</td>\n",
       "      <td>403.320312</td>\n",
       "      <td>-2.517506</td>\n",
       "      <td>1.856077</td>\n",
       "      <td>GO trial</td>\n",
       "      <td>Cz</td>\n",
       "    </tr>\n",
       "    <tr>\n",
       "      <th>HBA_0003_SART_T1</th>\n",
       "      <td>299.804688</td>\n",
       "      <td>NaN</td>\n",
       "      <td>-1.683058</td>\n",
       "      <td>NaN</td>\n",
       "      <td>NO-GO trial</td>\n",
       "      <td>Cz</td>\n",
       "    </tr>\n",
       "    <tr>\n",
       "      <th>HBA_0004_SART_T1</th>\n",
       "      <td>300.781250</td>\n",
       "      <td>428.710938</td>\n",
       "      <td>-4.841619</td>\n",
       "      <td>3.745975</td>\n",
       "      <td>GO trial</td>\n",
       "      <td>Cz</td>\n",
       "    </tr>\n",
       "    <tr>\n",
       "      <th>HBA_0004_SART_T1</th>\n",
       "      <td>302.734375</td>\n",
       "      <td>488.281250</td>\n",
       "      <td>-5.779026</td>\n",
       "      <td>6.044084</td>\n",
       "      <td>NO-GO trial</td>\n",
       "      <td>Cz</td>\n",
       "    </tr>\n",
       "    <tr>\n",
       "      <th>HBA_0005_SART_T1</th>\n",
       "      <td>258.789062</td>\n",
       "      <td>493.164062</td>\n",
       "      <td>-2.811082</td>\n",
       "      <td>2.376620</td>\n",
       "      <td>GO trial</td>\n",
       "      <td>Cz</td>\n",
       "    </tr>\n",
       "    <tr>\n",
       "      <th>HBA_0005_SART_T1</th>\n",
       "      <td>303.710938</td>\n",
       "      <td>419.921875</td>\n",
       "      <td>-3.622827</td>\n",
       "      <td>7.938980</td>\n",
       "      <td>NO-GO trial</td>\n",
       "      <td>Cz</td>\n",
       "    </tr>\n",
       "  </tbody>\n",
       "</table>\n",
       "</div>"
      ],
      "text/plain": [
       "                  N2 latency  P3 latency  N2 amplitude  P3 amplitude  \\\n",
       "HBA_0001_SART_T1  296.875000         NaN     -4.050822           NaN   \n",
       "HBA_0001_SART_T1  250.976562         NaN     -2.572810           NaN   \n",
       "HBA_0003_SART_T1  300.781250  403.320312     -2.517506      1.856077   \n",
       "HBA_0003_SART_T1  299.804688         NaN     -1.683058           NaN   \n",
       "HBA_0004_SART_T1  300.781250  428.710938     -4.841619      3.745975   \n",
       "HBA_0004_SART_T1  302.734375  488.281250     -5.779026      6.044084   \n",
       "HBA_0005_SART_T1  258.789062  493.164062     -2.811082      2.376620   \n",
       "HBA_0005_SART_T1  303.710938  419.921875     -3.622827      7.938980   \n",
       "\n",
       "                        Event Channel  \n",
       "HBA_0001_SART_T1     GO trial      Cz  \n",
       "HBA_0001_SART_T1  NO-GO trial      Cz  \n",
       "HBA_0003_SART_T1     GO trial      Cz  \n",
       "HBA_0003_SART_T1  NO-GO trial      Cz  \n",
       "HBA_0004_SART_T1     GO trial      Cz  \n",
       "HBA_0004_SART_T1  NO-GO trial      Cz  \n",
       "HBA_0005_SART_T1     GO trial      Cz  \n",
       "HBA_0005_SART_T1  NO-GO trial      Cz  "
      ]
     },
     "metadata": {},
     "output_type": "display_data"
    }
   ],
   "source": [
    "# Loop through all the subjects' directories (EEG files directories)\n",
    "df_erps = pd.DataFrame()\n",
    "arrange.create_results_folders(exp_folder=exp_folder,results_folder=results_foldername, erps=True)\n",
    "for i in range(len(file_dirs)):\n",
    "    erp_wins_temp = erp_wins\n",
    "    # Read the clean data from the disk\n",
    "    epochs = mne.read_epochs(fname='{}/{}_clean-epo.fif'.format(dir_inprogress, subject_names[i]), verbose=False)\n",
    "    \n",
    "    # Apply baseline correction\n",
    "    epochs = epochs.apply_baseline(baseline=(None, 0))\n",
    "\n",
    "    ### create loop here for going through GO and NO-GO's separately\n",
    "    for ev in event_list:\n",
    "        print('{} for {} ({}/{})'.format(ev, subject_names[i], i, len(file_dirs)))\n",
    "        # Create an averaged evoked object from epochs\n",
    "        evoked_signal = epochs[ev].average(picks=channel_picks)\n",
    "\n",
    "        # remove or add if save_evoked === truuuu\n",
    "        evoked_signal.save('{}/{}/ERP analysis/{}_{}_{}_evoked-ave.fif'.format(results_foldername, exp_folder,\n",
    "                                                                            subject_names[i], channel_picks,\n",
    "                                                                            ev), overwrite=True)\n",
    "\n",
    "        # Find all the peaks in the evoked signal\n",
    "        minpeak_times, minpeak_mags, maxpeak_times, maxpeak_mags = erpan.find_all_peaks(evoked_signal, epochs, \n",
    "                                                                                        t_range=tminmax, thresh=None,\n",
    "                                                                                        subject_name=subject_names[i],\n",
    "                                                                                        verbose=False, plot=False)\n",
    "        \n",
    "        # Identify which peaks are which ERPs based on the pre-defined ERP time windows\n",
    "        erp_peaks, not_erp_peaks = erpan.identify_erps(evoked_signal, erp_wins_temp, minpeak_times, minpeak_mags,\n",
    "                                                    maxpeak_times, maxpeak_mags, t_range=tminmax, subject_name=subject_names[i],\n",
    "                                                    verbose=False, plot=True, savefig=False,\n",
    "                                                    results_foldername=results_foldername, exp_folder=exp_folder)\n",
    "\n",
    "        # After visual inspection, it's possible to re-define the time windows to look for the peak\n",
    "        while input('Do you need to do any manual time window changes? (leave empty if \"no\")') != '':\n",
    "            print('Changing time window parameters for {}'.format(subject_names[i]))\n",
    "            new_time_win = [None, None, None]\n",
    "\n",
    "            # Ask user for which ERP they want to change or add\n",
    "            erp_tochange = input('What ERP time window you want to change (e.g., N1)?')\n",
    "\n",
    "            # Ask user what should be the minimum timepoint of the time window for that ERP\n",
    "            new_time_win[0] = int(input('Enter MIN time of the window in interest for {} (e.g., 50)'.format(erp_tochange)))\n",
    "\n",
    "            # Ask user what should be the maximum timepoint of the time window for that ERP\n",
    "            new_time_win[1] = int(input('Enter MAX time of the window in interest for {} (e.g., 100)'.format(erp_tochange)))\n",
    "\n",
    "            # Ask user whether this ERP should be a postitive (1) or negative (-1) peak\n",
    "            new_time_win[2] = int(input('Enter whether to look for MIN (-1) or MAX (1) voltage for {}'.format(erp_tochange)))\n",
    "\n",
    "            # Change the temporary ERP time window parameters to the user inputted parameters\n",
    "            erp_wins_temp[erp_tochange] = new_time_win\n",
    "            print('Changing', erp_tochange, 'with new time window:', str(new_time_win))\n",
    "\n",
    "            # Use these new parameters to find either minimum or maximum value in that range\n",
    "            try:\n",
    "                erp_peaks = erpan.find_minmax_erp(evoked_signal, erp_peaks, erp_tochange, new_time_win,\n",
    "                                                t_range=tminmax, subject_name=subject_names[i], verbose=False, plot=True,\n",
    "                                                savefig=False, results_foldername=results_foldername, exp_folder=exp_folder)\n",
    "            except:\n",
    "                print('Something went wrong with manual ERP detection, try again.')\n",
    "\n",
    "        # Add this/these new temporary ERP to the main dataframe\n",
    "        df_erps_temp = erpan.erp_dict_to_df(erp_peaks, erp_wins_temp, subject_names[i])\n",
    "        df_erps_temp['Event'] = ev\n",
    "        df_erps_temp['Channel'] = channel_picks\n",
    "        df_erps = pd.concat([df_erps, df_erps_temp])\n",
    "        print('ERPs have been found and added to the dataframe for {}'.format(subject_names[i]))\n",
    "        display(df_erps)\n",
    "\n",
    "# Export all the detected ERPs to an Excel spreadsheet\n",
    "display(df_erps)\n",
    "df_erps.to_excel('{}/{}/ERP analysis/{}_{}_grandaverage_erps.xlsx'.format(results_foldername,exp_folder,exp_condition,channel_picks))"
   ]
  }
 ],
 "metadata": {
  "kernelspec": {
   "display_name": "Python 3.9.13 ('EEG-pipeline-TI')",
   "language": "python",
   "name": "python3"
  },
  "language_info": {
   "codemirror_mode": {
    "name": "ipython",
    "version": 3
   },
   "file_extension": ".py",
   "mimetype": "text/x-python",
   "name": "python",
   "nbconvert_exporter": "python",
   "pygments_lexer": "ipython3",
   "version": "3.9.12"
  },
  "orig_nbformat": 4,
  "vscode": {
   "interpreter": {
    "hash": "7a57757abf3656da35bfbc8305ac62bd00e5fa58b0b8fef7bd72ac98b35a77f4"
   }
  }
 },
 "nbformat": 4,
 "nbformat_minor": 2
}
