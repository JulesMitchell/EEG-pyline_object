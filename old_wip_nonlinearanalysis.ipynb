{
 "cells": [
  {
   "cell_type": "code",
   "execution_count": 1,
   "metadata": {},
   "outputs": [],
   "source": [
    "from Functions.fn_basic import readFiles, arrayToDataframe, channelsToRegions\n",
    "\n",
    "import os\n",
    "import numpy as np\n",
    "import mne\n",
    "import pandas as pd\n",
    "import mne_features"
   ]
  },
  {
   "cell_type": "code",
   "execution_count": 2,
   "metadata": {},
   "outputs": [
    {
     "name": "stdout",
     "output_type": "stream",
     "text": [
      "Files in folder: 2\n"
     ]
    }
   ],
   "source": [
    "exp_folder = input('Experiment folder (e.g., Eyes Open\\Baseline):')\n",
    "#exp_folder = r\"Eyes Closed\\test\"\n",
    "exp_condition = input('Experiment condition in short (e.g., EO_07)')\n",
    "\n",
    "clean_folder = r\"Data\\Clean\"\n",
    "dir_inprogress = os.path.join(clean_folder,exp_folder)\n",
    "\n",
    "file_dirs, subject_names = readFiles(dir_inprogress,\"_clean-epo.fif\")"
   ]
  },
  {
   "cell_type": "code",
   "execution_count": 3,
   "metadata": {},
   "outputs": [
    {
     "name": "stdout",
     "output_type": "stream",
     "text": [
      "Reading c:\\Users\\TANIJARV\\Downloads\\Ketamine-SI project\\Data\\Clean\\Eyes Closed\\test\\OKTOS_0001_00A_EC_clean-epo.fif ...\n",
      "    Read a total of 1 projection items:\n",
      "        EOG-eeg--0.200-0.200-PCA-01 (1 x 32) active\n",
      "    Found the data of interest:\n",
      "        t =       0.00 ...    4999.02 ms\n",
      "        0 CTF compensation matrices available\n",
      "0 bad epochs dropped\n",
      "Not setting metadata\n",
      "52 matching events found\n",
      "No baseline correction applied\n",
      "Created an SSP operator (subspace dimension = 1)\n",
      "1 projection items activated\n",
      "Reading c:\\Users\\TANIJARV\\Downloads\\Ketamine-SI project\\Data\\Clean\\Eyes Closed\\test\\OKTOS_0002_00A_EC_clean-epo.fif ...\n",
      "    Read a total of 1 projection items:\n",
      "        EOG-eeg--0.200-0.200-PCA-01 (1 x 32) active\n",
      "    Found the data of interest:\n",
      "        t =       0.00 ...    4999.02 ms\n",
      "        0 CTF compensation matrices available\n",
      "0 bad epochs dropped\n",
      "Not setting metadata\n",
      "47 matching events found\n",
      "No baseline correction applied\n",
      "Created an SSP operator (subspace dimension = 1)\n",
      "1 projection items activated\n"
     ]
    }
   ],
   "source": [
    "df_hfd = pd.DataFrame()\n",
    "# Go through all the files (subjects) in the folder\n",
    "for i in range(len(file_dirs)):\n",
    "    # Read the clean data from the disk\n",
    "    epochs = mne.read_epochs(fname='{}\\{}_clean-epo.fif'.format(dir_inprogress,subject_names[i]))\n",
    "    epochs_array = epochs.get_data()\n",
    "    n_channels = len(epochs.info.ch_names)\n",
    "\n",
    "    epochs_contin = np.empty(shape=(n_channels,1))\n",
    "    for j in range(len(epochs_array[:,0,0])):\n",
    "        epo_iter = epochs_array[j,:,:]\n",
    "        epochs_contin = np.append(epochs_contin,epo_iter,axis=1)\n",
    "    epochs_contin = epochs_contin[:,1:]\n",
    "\n",
    "    hfd = mne_features.univariate.compute_higuchi_fd(data=epochs_contin,kmax=120)\n",
    "    df_hfd_temp = arrayToDataframe(subject_names[i],epochs,hfd)\n",
    "    df_hfd = pd.concat([df_hfd,df_hfd_temp])\n",
    "    \n",
    "df_hfd_regional = channelsToRegions(df_hfd)\n",
    "\n",
    "try:\n",
    "    os.makedirs(os.path.join(r\"Results\\Higuchi\",exp_folder))\n",
    "except FileExistsError:\n",
    "    pass\n",
    "\n",
    "df_hfd_regional.to_excel(r\"Results\\Higuchi\\{}\\{}_hfd_regional.xlsx\".format(exp_folder,exp_condition))\n",
    "df_hfd.to_excel(r\"Results\\Higuchi\\{}\\{}_hfd_channels.xlsx\".format(exp_folder,exp_condition))\n"
   ]
  }
 ],
 "metadata": {
  "kernelspec": {
   "display_name": "Python 3.10.4 ('eeg-pipeline')",
   "language": "python",
   "name": "python3"
  },
  "language_info": {
   "codemirror_mode": {
    "name": "ipython",
    "version": 3
   },
   "file_extension": ".py",
   "mimetype": "text/x-python",
   "name": "python",
   "nbconvert_exporter": "python",
   "pygments_lexer": "ipython3",
   "version": "3.10.4"
  },
  "orig_nbformat": 4,
  "vscode": {
   "interpreter": {
    "hash": "449a69c367d866a1f52d4e7c9431ac7e4787861d219d79444dd1c121c4a22fc7"
   }
  }
 },
 "nbformat": 4,
 "nbformat_minor": 2
}
