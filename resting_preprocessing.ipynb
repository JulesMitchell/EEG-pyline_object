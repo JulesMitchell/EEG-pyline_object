{
 "cells": [
  {
   "cell_type": "code",
   "execution_count": 66,
   "metadata": {
    "pycharm": {
     "name": "#%%\n"
    }
   },
   "outputs": [],
   "source": [
    "import mne, os\n",
    "from signal_processing.pre_process import *\n",
    "from basic.arrange_data import read_files\n",
    "import numpy as np\n",
    "\n",
    "mne.set_log_level('error')"
   ]
  },
  {
   "cell_type": "markdown",
   "metadata": {
    "pycharm": {
     "name": "#%% md\n"
    }
   },
   "source": [
    "**Set the folder of EEG files**\n",
    "\n",
    "Run the cell to be prompted with an input box for choosing the folder containing the EEG files of interest.\n",
    "\n",
    "*NB! The path has to be in 'Data\\Raw\\' folder relative to this notebook.*"
   ]
  },
  {
   "cell_type": "code",
   "execution_count": 44,
   "metadata": {
    "pycharm": {
     "name": "#%%\n"
    }
   },
   "outputs": [
    {
     "name": "stdout",
     "output_type": "stream",
     "text": [
      "Files in folder: 1\n"
     ]
    }
   ],
   "source": [
    "exp_folder = r\"Eyes Closed/T1\" # in case you want to just type the dir here\n",
    "#exp_folder = input('Experiment folder (e.g., Eyes Open\\Baseline):')\n",
    "\n",
    "raw_folder = r\"Data/Raw/LEISURE/\"\n",
    "clean_folder = r\"Data/Clean/LEISURE\"\n",
    "dir_inprogress = os.path.join(raw_folder,exp_folder)\n",
    "export_dir = os.path.join(clean_folder,exp_folder)\n",
    "\n",
    "file_dirs, subject_names = read_files(dir_inprogress,\".bdf\")"
   ]
  },
  {
   "cell_type": "markdown",
   "metadata": {},
   "source": [
    "For getting information about the EEG files"
   ]
  },
  {
   "cell_type": "code",
   "execution_count": 45,
   "metadata": {},
   "outputs": [
    {
     "name": "stdout",
     "output_type": "stream",
     "text": [
      "<Info | 7 non-empty values\n",
      " bads: []\n",
      " ch_names: Fp1, AF3, F7, F3, FC1, FC5, T7, C3, CP1, CP5, P7, P3, Pz, PO3, ...\n",
      " chs: 32 EEG, 8 EOG, 1 Stimulus\n",
      " custom_ref_applied: False\n",
      " highpass: 0.0 Hz\n",
      " lowpass: 208.0 Hz\n",
      " meas_date: 2018-10-31 13:41:07 UTC\n",
      " nchan: 41\n",
      " projs: []\n",
      " sfreq: 1024.0 Hz\n",
      ">\n"
     ]
    }
   ],
   "source": [
    "raw_test = mne.io.read_raw_bdf(file_dirs[0],infer_types=True,\n",
    "                            eog=[\"EXG1\",\"EXG2\",\"EXG3\",\"EXG4\",\"EXG5\",\"EXG6\",\"EXG7\",\"EXG8\"],\n",
    "                            stim_channel=\"Status\")\n",
    "print(raw_test.info)"
   ]
  },
  {
   "cell_type": "markdown",
   "metadata": {},
   "source": [
    "**Pre-process raw EEG files and save them**\n",
    "\n",
    "1. Read raw BDF file, set EOG channels, and montage type\n",
    "2. Filter data with FIR bandpass filter and remove EOG noise\n",
    "3. Segment data into epochs and conduct artefact rejection and augmentation\n",
    "4. Attempt to create a folder and save the cleaned signal file in FIF format (only successful if the path is empty!)"
   ]
  },
  {
   "cell_type": "markdown",
   "metadata": {},
   "source": [
    "Resting state"
   ]
  },
  {
   "cell_type": "code",
   "execution_count": null,
   "metadata": {},
   "outputs": [],
   "source": [
    "for i in range(len(file_dirs)):  \n",
    "    raw = mne.io.read_raw_bdf(file_dirs[i],infer_types=True,\n",
    "                              eog=[\"EXG1\",\"EXG2\",\"EXG3\",\"EXG4\",\"EXG5\",\"EXG6\",\"EXG7\",\"EXG8\"],\n",
    "                              stim_channel=\"Status\")#.drop_channels([\"Erg1\",\n",
    "                            #   \"B1\",\"B2\",\"B3\",\"B4\",\"B5\",\"B6\",\"B7\",\"B8\",\"B9\",\"B10\",\"B11\",\"B12\",\n",
    "                            #   \"B13\",\"B14\",\"B15\",\"B16\",\"B17\",\"B18\",\"B19\",\"B20\",\"B21\",\"B22\",\"B23\",\"B24\",\n",
    "                            #   \"B25\",\"B26\",\"B27\",\"B28\",\"B29\",\"B30\",\"B31\",\"B32\",\n",
    "                            #   \"C1\",\"C2\",\"C3-1\",\"C4-1\",\"C5\",\"C6\",\"C7\",\"C8\",\"C9\",\"C10\",\"C11\",\"C12\",\n",
    "                            #   \"C13\",\"C14\",\"C15\",\"C16\",\"C17\",\"C18\",\"C19\",\"C20\",\"C21\",\"C22\",\"C23\",\"C24\",\n",
    "                            #   \"C25\",\"C26\",\"C27\",\"C28\",\"C29\",\"C30\",\"C31\",\"C32\",\n",
    "                            #   \"D1\",\"D2\",\"D3\",\"D4\",\"D5\",\"D6\",\"D7\",\"D8\",\"D9\",\"D10\",\"D11\",\"D12\",\n",
    "                            #   \"D13\",\"D14\",\"D15\",\"D16\",\"D17\",\"D18\",\"D19\",\"D20\",\"D21\",\"D22\",\"D23\",\"D24\",\n",
    "                            #   \"D25\",\"D26\",\"D27\",\"D28\",\"D29\",\"D30\",\"D31\",\"D32\"]).rename_channels({'C3-0':'C3','C4-0':'C4'})\n",
    "\n",
    "    raw = raw.set_montage(mne.channels.make_standard_montage(\"biosemi32\")).load_data()\\\n",
    "             .set_eeg_reference(ref_channels='average')\n",
    "\n",
    "    # Find stimulus points, i.e. start and end of resting state, and crop the signal\n",
    "    events = mne.find_events(raw,stim_channel='Status',consecutive=False,output='offset')\n",
    "    print(events)\n",
    "\n",
    "    cropped_raw = raw.crop(tmin=events[0][0]/raw.info['sfreq'],tmax=events[-4][0]/raw.info['sfreq'])\n",
    "    \n",
    "    # Filter the signal with bandpass filter and remove EOG artefacts with SSP\n",
    "    filt = filter_raw_data(cropped_raw,l_freq=0.5,h_freq=30,eog_remove=True)\n",
    "\n",
    "    %matplotlib inline\n",
    "    epochs = artefact_rejection(filt,subject_names[i],epo_duration=5)\n",
    "\n",
    "    # For displaying interactive EEG plots\n",
    "    #%matplotlib qt\n",
    "    #epochs.plot(n_channels=32,n_epochs=1)\n",
    "\n",
    "    try:\n",
    "        os.makedirs(export_dir)\n",
    "    except FileExistsError:\n",
    "        pass\n",
    "    try:\n",
    "        mne.Epochs.save(epochs,fname='{}/{}_clean-epo.fif'.format(export_dir,subject_names[i]),overwrite=True)\n",
    "    except FileExistsError:\n",
    "        pass"
   ]
  }
 ],
 "metadata": {
  "kernelspec": {
   "display_name": "Python 3.9.13 ('EEG-pipeline-TI')",
   "language": "python",
   "name": "python3"
  },
  "language_info": {
   "codemirror_mode": {
    "name": "ipython",
    "version": 3
   },
   "file_extension": ".py",
   "mimetype": "text/x-python",
   "name": "python",
   "nbconvert_exporter": "python",
   "pygments_lexer": "ipython3",
   "version": "3.9.13"
  },
  "orig_nbformat": 4,
  "vscode": {
   "interpreter": {
    "hash": "7a57757abf3656da35bfbc8305ac62bd00e5fa58b0b8fef7bd72ac98b35a77f4"
   }
  }
 },
 "nbformat": 4,
 "nbformat_minor": 2
}
