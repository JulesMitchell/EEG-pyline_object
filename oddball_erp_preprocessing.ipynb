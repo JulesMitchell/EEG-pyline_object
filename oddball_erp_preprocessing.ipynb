{
 "cells": [
  {
   "cell_type": "code",
   "execution_count": null,
   "metadata": {},
   "outputs": [],
   "source": [
    "import mne, os\n",
    "from signal_processing.pre_process import *\n",
    "from basic.arrange_data import read_files, create_results_folders\n",
    "import numpy as np\n",
    "from cmath import nan\n",
    "import matplotlib.pyplot as plt\n",
    "import pandas as pd\n",
    "\n",
    "mne.set_log_level('error')"
   ]
  },
  {
   "cell_type": "markdown",
   "metadata": {},
   "source": [
    "**Set the folder of EEG files**\n",
    "\n",
    "Run the cell to be prompted with an input box for choosing the folder containing the EEG files of interest.\n",
    "\n",
    "*NB! The path has to be in 'Data\\Raw\\' folder relative to this notebook.*"
   ]
  },
  {
   "cell_type": "code",
   "execution_count": null,
   "metadata": {},
   "outputs": [],
   "source": [
    "exp_folder = r\"Auditory Oddball/Baseline\" # in case you want to just type the dir here\n",
    "#exp_folder = input('Experiment folder (e.g., Eyes Open\\Baseline):')\n",
    "\n",
    "raw_folder = r\"Data/Raw/OKTOS/\"\n",
    "clean_folder = r\"Data/Clean/OKTOS\"\n",
    "dir_inprogress = os.path.join(raw_folder,exp_folder)\n",
    "export_dir = os.path.join(clean_folder,exp_folder)\n",
    "\n",
    "results_foldername = r\"Results/OKTOS\"\n",
    "exp_condition = r\"AO_T01\"\n",
    "\n",
    "file_dirs, subject_names = read_files(dir_inprogress,\".bdf\")"
   ]
  },
  {
   "cell_type": "code",
   "execution_count": null,
   "metadata": {},
   "outputs": [],
   "source": [
    "tminmax = [-0.2, 0.8]\n",
    "baseline_correction = (None,0)\n",
    "event_dict = {'target after 1 standard': 17, 'target after 3 standards': 19,\n",
    "                'target after 5 standards': 21, 'target after 7 standards': 23,\n",
    "                'target after 9 standards': 25, 'target after 11 standards': 27}\n",
    "target_ids = [17, 19, 21, 23, 25, 27]\n",
    "button_id = 32\n",
    "\n",
    "for i in range(len(file_dirs)):  \n",
    "        # Read in the raw EEG data\n",
    "        raw = mne.io.read_raw_bdf(file_dirs[i],infer_types=True,\n",
    "                                eog=[\"EXG1\",\"EXG2\",\"EXG3\",\"EXG4\",\"EXG5\",\"EXG6\",\"EXG7\",\"EXG8\"],\n",
    "                                stim_channel=\"Status\")\n",
    "\n",
    "        # Set the right montage (Biosemi32) and set reference as average across all channels\n",
    "        raw = raw.set_montage(mne.channels.make_standard_montage(\"biosemi32\")).load_data()\\\n",
    "                .set_eeg_reference(ref_channels='average')\n",
    "        \n",
    "        # Filtering and EOG-removal\n",
    "        filt = raw.copy().load_data().filter(1,15,verbose=False)\n",
    "        eog_projs, _ = mne.preprocessing.compute_proj_eog(filt,verbose=False,n_grad=0,n_mag=0,n_eeg=1,reject=None,no_proj=True,ch_name=[\"EXG1\",\"EXG2\",\"EXG3\",\"EXG4\",\"EXG5\",\"EXG6\",\"EXG7\",\"EXG8\"])\n",
    "        filt.add_proj(eog_projs,remove_existing=True)\n",
    "        filt.apply_proj()\n",
    "        filt.drop_channels([\"EXG1\",\"EXG2\",\"EXG3\",\"EXG4\",\"EXG5\",\"EXG6\",\"EXG7\",\"EXG8\"]) # later remove this from filter funct\n",
    "\n",
    "        # Find events from the filtered EEG data and name them\n",
    "        events = mne.find_events(filt,stim_channel='Status',consecutive=False,output='onset')\n",
    "        buttontarget_events = []\n",
    "\n",
    "        # Create an array of target tone events which have been responded with a button press (acknowledged deviant tones only)\n",
    "        for m in range(len(events)):\n",
    "                for n in target_ids:\n",
    "                        if events[m][2] == n and events[m+1][2] == button_id:\n",
    "                                buttontarget_events.append(events[m])\n",
    "        buttontarget_events = np.asarray(buttontarget_events)\n",
    "\n",
    "        # Plot all the events\n",
    "        %matplotlib inline\n",
    "        fig = mne.viz.plot_events(buttontarget_events, sfreq=filt.info['sfreq'],\n",
    "                                first_samp=filt.first_samp,event_id=event_dict)\n",
    "        fig.subplots_adjust(right=0.7)  # make room for legend\n",
    "\n",
    "        # Create epochs time-locked to target tone events which are followed by button press\n",
    "        picks = mne.pick_types(filt.info,eeg=True,stim=False)\n",
    "        epochs = mne.Epochs(filt,buttontarget_events,event_id=event_dict,tmin=tminmax[0],tmax=tminmax[1],\n",
    "                            baseline=baseline_correction,picks=picks,preload=True)\n",
    "        \n",
    "        # Plot the epochs' GFP plot before artefact rejection\n",
    "        epochs.plot_image(title=\"GFP without AR ({})\".format(subject_names[i]))\n",
    "\n",
    "        # Use AutoReject to repair and remove epochs which are artefactual\n",
    "        reject_criteria = get_rejection_threshold(epochs)\n",
    "        print('Dropping epochs with rejection threshold:',reject_criteria)\n",
    "        epochs.drop_bad(reject=reject_criteria)\n",
    "\n",
    "        ar = AutoReject(thresh_method='random_search',random_state=1)\n",
    "        ar.fit(epochs)\n",
    "        epochs_ar, reject_log = ar.transform(epochs, return_log=True)\n",
    "\n",
    "        reject_log.plot('horizontal')\n",
    "\n",
    "        # Plot the epochs' GFP after artefact rejection\n",
    "        epochs_ar.average().plot()\n",
    "        epochs_ar.plot_image(title=\"GFP with AR ({})\".format(subject_names[i]))\n",
    "\n",
    "        # Display the final epochs object meta-data\n",
    "        display(epochs_ar)\n",
    "\n",
    "        # Save the cleaned EEG file as .fif file\n",
    "        try:\n",
    "                os.makedirs(export_dir)\n",
    "        except FileExistsError:\n",
    "                pass\n",
    "        try:\n",
    "                mne.Epochs.save(epochs_ar,fname='{}/{}_clean-epo.fif'.format(export_dir,subject_names[i]),overwrite=True)\n",
    "        except FileExistsError:\n",
    "                pass"
   ]
  }
 ],
 "metadata": {
  "kernelspec": {
   "display_name": "Python 3.9.13 64-bit ('3.9.13')",
   "language": "python",
   "name": "python3"
  },
  "language_info": {
   "name": "python",
   "version": "3.9.13"
  },
  "orig_nbformat": 4,
  "vscode": {
   "interpreter": {
    "hash": "3241cb67ae0df6d6a4171e7d835d18bb25944a27527ff556ba92c6d5c649e0df"
   }
  }
 },
 "nbformat": 4,
 "nbformat_minor": 2
}
