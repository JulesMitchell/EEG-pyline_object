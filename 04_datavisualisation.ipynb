{
 "cells": [
  {
   "cell_type": "code",
   "execution_count": 3,
   "metadata": {},
   "outputs": [
    {
     "name": "stdout",
     "output_type": "stream",
     "text": [
      "Files in folder: 6\n",
      "Files in folder: 5\n",
      "Files in folder: 5\n",
      "Files in folder: 5\n",
      "Files in folder: 5\n",
      "Files in folder: 5\n",
      "Files in folder: 5\n",
      "Files in folder: 26\n"
     ]
    }
   ],
   "source": [
    "from Functions.fn_basic import *\n",
    "from Functions.fn_stats import *\n",
    "from Functions.fn_plots import *\n",
    "\n",
    "import os, mne\n",
    "import pandas as pd\n",
    "import seaborn as sns\n",
    "import numpy as np\n",
    "from scipy import stats\n",
    "import matplotlib.pyplot as plt\n",
    "\n",
    "exp_folder_1 = r\"Eyes Closed\\Baseline\"\n",
    "exp_folder_2 = r\"Eyes Closed\\6 weeks\"\n",
    "exp_folder_3 = r\"Eyes Closed\\10 weeks\"\n",
    "\n",
    "# exp_folder_1 = r\"Eyes Open\\Baseline\"\n",
    "# exp_folder_2 = r\"Eyes Open\\6 weeks\"\n",
    "# exp_folder_3 = r\"Eyes Open\\10 weeks\"\n",
    "\n",
    "psd_reg_folder = r\"Results\\PSD\\regions\"\n",
    "psd_ch_folder = r\"Results\\PSD\\channels\"\n",
    "\n",
    "psd_faa_folder = r\"Results\\PSD\"\n",
    "[dir_inprogress_faa,filenames_faa,condition_faa] = read_excel_psd('',psd_faa_folder)\n",
    "\n",
    "condition_code_list = [['EC_00','EC_06'],['EC_06','EC_07'],['EC_00','EC_07']]\n",
    "#condition_code_list = [['EO_00','EO_06'],['EO_06','EO_07'],['EO_00','EO_07']]\n",
    "stat_test = 'Wilcoxon'\n",
    "\n",
    "[dir_inprogress_reg_1,b_names_reg_1,condition_reg_1] = read_excel_psd(exp_folder_1,psd_reg_folder)\n",
    "[dir_inprogress_reg_2,b_names_reg_2,condition_reg_2] = read_excel_psd(exp_folder_2,psd_reg_folder)\n",
    "[dir_inprogress_reg_3,b_names_reg_3,condition_reg_3] = read_excel_psd(exp_folder_3,psd_reg_folder)\n",
    "\n",
    "dir_inprogress_reg = dir_inprogress_reg_1,dir_inprogress_reg_2,dir_inprogress_reg_3\n",
    "b_names_reg = b_names_reg_1,b_names_reg_2,b_names_reg_3\n",
    "condition_reg = condition_reg_1,condition_reg_2,condition_reg_3\n",
    "\n",
    "[dir_inprogress_ch_1,b_names_ch_1,condition_ch_1] = read_excel_psd(exp_folder_1,psd_ch_folder)\n",
    "[dir_inprogress_ch_2,b_names_ch_2,condition_ch_2] = read_excel_psd(exp_folder_2,psd_ch_folder)\n",
    "[dir_inprogress_ch_3,b_names_ch_3,condition_ch_3] = read_excel_psd(exp_folder_3,psd_ch_folder)\n",
    "\n",
    "dir_inprogress_ch = dir_inprogress_ch_1,dir_inprogress_ch_2,dir_inprogress_ch_3\n",
    "b_names_ch = b_names_ch_1,b_names_ch_2,b_names_ch_3\n",
    "condition_ch = condition_ch_1,condition_ch_2,condition_ch_3\n",
    "\n",
    "clean_folder = r\"Data\\Clean\"\n",
    "dir_inprogress_epo = os.path.join(clean_folder,exp_folder_1)\n",
    "_, subject_names = read_files(dir_inprogress_epo,\"_clean-epo.fif\")\n",
    "epochs = mne.read_epochs(fname='{}\\{}_clean-epo.fif'.format(dir_inprogress_epo,subject_names[0]),verbose=False)"
   ]
  },
  {
   "cell_type": "code",
   "execution_count": null,
   "metadata": {},
   "outputs": [],
   "source": [
    "df_faa = pd.DataFrame()\n",
    "for i in range(len(filenames_faa)):\n",
    "    df_faa_temp = pd.read_excel('{}\\{}.xlsx'.format(dir_inprogress_faa,filenames_faa[i]))\\\n",
    "        .assign(**{'Frequency band':'FAA','Condition': condition_faa[i][0].removesuffix('_frontal_asymmetry')})\n",
    "    df_faa = pd.concat([df_faa,df_faa_temp])\n",
    "#display(df_faa)\n",
    "#print('EC_00 mean\\n',df_faa[['Pre-frontal','Mid-frontal','Lateral-frontal']][df_faa['Condition']=='EC_00'].mean())\n",
    "#print('EC_06 mean\\n',df_faa[['Pre-frontal','Mid-frontal','Lateral-frontal']][df_faa['Condition']=='EC_06'].mean())\n",
    "#print('EC_07 mean\\n',df_faa[['Pre-frontal','Mid-frontal','Lateral-frontal']][df_faa['Condition']=='EC_07'].mean())\n",
    "\n",
    "plot_boxplot_band(df_faa,regions=['Pre-frontal','Mid-frontal','Lateral-frontal'],\n",
    "                  band='FAA',condition_comp_list=condition_code_list,\n",
    "                  condition_legend=['Baseline','6 weeks','10 weeks'],fnt=['sans-serif',8,10],\n",
    "                  title=True,stat_test='Wilcoxon',ast_loc='inside',export=False)"
   ]
  },
  {
   "cell_type": "code",
   "execution_count": null,
   "metadata": {},
   "outputs": [],
   "source": [
    "print('N1 =', len([0,2,5,3]))\n",
    "print('M1 =',np.mean([0,2,5,3]))\n",
    "print('SD1 =',np.std([0,2,5,3]))\n",
    "print('SEM1 =',stats.sem([0,2,5,3],ddof=0))\n",
    "\n",
    "print('')\n",
    "\n",
    "print('N2 =', len([1,1,3,2]))\n",
    "print('M2 =',np.mean([1,1,3,2]))\n",
    "print('SD2 =',np.std([1,1,3,2]))\n",
    "print('SEM2 =',stats.sem([1,1,3,2],ddof=0))\n",
    "\n",
    "print('')\n",
    "\n",
    "print('M_D =',np.abs(np.mean([0,2,5,3])-np.mean([1,1,3,2])))\n",
    "print('SD_D =',np.sqrt(stats.sem([0,2,5,3],ddof=0)**2+stats.sem([1,1,3,2],ddof=0)**2))\n",
    "# time two as well?\n",
    "\n",
    "df = pd.DataFrame(data={'col1': [0,2,5,3], 'col2': [1,1,3,9]})\n",
    "plt.figure()\n",
    "sns.boxplot(data=df)\n",
    "display(df)\n",
    "display(df.describe())"
   ]
  },
  {
   "cell_type": "code",
   "execution_count": 21,
   "metadata": {},
   "outputs": [
    {
     "name": "stdout",
     "output_type": "stream",
     "text": [
      "['EC_06', 'EC_07'] Significant changes of Alpha are at ['Temporal' 'Centro-parietal']\n",
      "['EC_06', 'EC_07'] Significant changes of Delta are at ['Temporal']\n",
      "['EC_06', 'EC_07'] Significant changes of Low-Beta are at ['Temporal' 'Occipital']\n",
      "['EC_06', 'EC_07'] Significant changes of Theta are at ['Temporal' 'Occipital']\n",
      "['EC_00', 'EC_07'] Significant changes of Alpha are at ['Temporal']\n"
     ]
    }
   ],
   "source": [
    "df_psd_reg = pd.DataFrame()\n",
    "for i in range(len(b_names_reg[0])):\n",
    "    for n_exps in range(len(b_names_reg)):\n",
    "        globals()[b_names_reg[n_exps][i]] = pd.read_excel('{}\\{}.xlsx'\\\n",
    "                                            .format(dir_inprogress_reg[n_exps],b_names_reg[n_exps][i]))\\\n",
    "            .assign(**{'Frequency band': condition_reg[n_exps][i][1],'Condition': condition_reg[n_exps][i][0]})\n",
    "        df_psd_reg = pd.concat([df_psd_reg,globals()[b_names_reg[n_exps][i]]])\n",
    "\n",
    "for condition in condition_code_list:\n",
    "    df_reg_desc,df_reg_pvals,df_reg_statistics,significant_reg = apply_stat_test(df_psd_reg,condition,stat_test=stat_test)\n",
    "    try:\n",
    "        os.makedirs(os.path.join(psd_reg_folder,''))\n",
    "    except FileExistsError:\n",
    "        pass\n",
    "    with pd.ExcelWriter(r\"Results\\PSD\\regions\\{}_results_{}-{}.xlsx\".format(stat_test,condition[0],condition[1])) as writer:\n",
    "        df_reg_desc.to_excel(writer, sheet_name='Descripitives')\n",
    "        df_reg_pvals.to_excel(writer, sheet_name='P-values')\n",
    "        df_reg_statistics.to_excel(writer, sheet_name='Stat-values')"
   ]
  },
  {
   "cell_type": "code",
   "execution_count": 22,
   "metadata": {},
   "outputs": [
    {
     "name": "stdout",
     "output_type": "stream",
     "text": [
      "['EC_00', 'EC_06'] Significant changes of Alpha are at ['Pz']\n",
      "['EC_00', 'EC_06'] Significant changes of Low-Beta are at ['FC1' 'Pz']\n",
      "['EC_06', 'EC_07'] Significant changes of Alpha are at ['FC1' 'FC5' 'T7' 'C3' 'CP5' 'P7' 'P3' 'PO3' 'PO4' 'P4' 'P8' 'CP6' 'CP2'\n",
      " 'C4' 'T8' 'FC6' 'F4' 'F8']\n",
      "['EC_06', 'EC_07'] Significant changes of Delta are at ['O1' 'Oz' 'O2' 'P8' 'CP6' 'T8']\n",
      "['EC_06', 'EC_07'] Significant changes of High-Beta are at ['PO3' 'P4' 'FC6']\n",
      "['EC_06', 'EC_07'] Significant changes of Low-Beta are at ['F7' 'PO3' 'O2' 'PO4' 'P4' 'CP6' 'FC6']\n",
      "['EC_06', 'EC_07'] Significant changes of Theta are at ['P3' 'PO3' 'Oz' 'O2' 'PO4' 'P4' 'P8' 'CP6' 'T8']\n",
      "['EC_00', 'EC_07'] Significant changes of Alpha are at ['T8']\n"
     ]
    }
   ],
   "source": [
    "df_psd_ch = pd.DataFrame()\n",
    "for i in range(len(b_names_ch[0])):\n",
    "    for n_exps in range(len(b_names_ch)):\n",
    "        globals()[b_names_ch[n_exps][i]] = pd.read_excel('{}\\{}.xlsx'\\\n",
    "                                            .format(dir_inprogress_ch[n_exps],b_names_ch[n_exps][i]))\\\n",
    "            .assign(**{'Frequency band': condition_ch[n_exps][i][1],'Condition': condition_ch[n_exps][i][0]})\n",
    "        df_psd_ch = pd.concat([df_psd_ch,globals()[b_names_ch[n_exps][i]]])\n",
    "\n",
    "for condition in condition_code_list:\n",
    "    df_ch_desc,df_ch_pvals,df_ch_statistics,significant_ch = apply_stat_test(df_psd_ch,condition,stat_test=stat_test)\n",
    "    try:\n",
    "        os.makedirs(os.path.join(psd_ch_folder,''))\n",
    "    except FileExistsError:\n",
    "        pass\n",
    "    with pd.ExcelWriter(r\"Results\\PSD\\channels\\{}_results_{}-{}.xlsx\".format(stat_test,condition[0],condition[1])) as writer:\n",
    "        df_ch_desc.to_excel(writer, sheet_name='Descripitives')\n",
    "        df_ch_pvals.to_excel(writer, sheet_name='P-values')\n",
    "        df_ch_statistics.to_excel(writer, sheet_name='Stat-values')"
   ]
  },
  {
   "cell_type": "code",
   "execution_count": null,
   "metadata": {},
   "outputs": [],
   "source": [
    "for b_name in (df_psd_ch['Frequency band'].unique()):\n",
    "    plot_topomaps_band(df_psd_ch,epochs,b_name,condition_legend=['Baseline','6 weeks','10 weeks'],\n",
    "                       conditions=['EC_00','EC_06','EC_07'],fnt=['sans-serif',9],title=True,export=True)"
   ]
  },
  {
   "cell_type": "code",
   "execution_count": null,
   "metadata": {},
   "outputs": [],
   "source": [
    "plot_boxplot_location(df_psd_reg,bands=['Alpha','Low-Beta'],region='Occipital',\n",
    "                      condition_comp_list=condition_code_list,\n",
    "                      condition_legend=['Baseline','6 weeks','10 weeks'],fnt=['sans-serif',8,10],\n",
    "                      title=True,stat_test='Wilcoxon',ast_loc='inside',export=True)\n",
    "\n",
    "plot_boxplot_band(df_psd_reg,regions=['Temporal','Occipital'],band='High-Beta',\n",
    "                  condition_comp_list=condition_code_list,\n",
    "                  condition_legend=['Baseline','6 weeks','10 weeks'],fnt=['sans-serif',8,10],\n",
    "                  title=True,stat_test='Wilcoxon',ast_loc='inside',export=True)"
   ]
  },
  {
   "cell_type": "code",
   "execution_count": null,
   "metadata": {},
   "outputs": [],
   "source": [
    "# EC: Increase in alpha band power from post-treatment to follow-up in right hemisphere\n",
    "plot_boxplot_band(df_psd_ch,regions=['F8','F4'],band='Alpha',\n",
    "                  condition_comp_list=condition_code_list,\n",
    "                  condition_legend=['Baseline','6 weeks','10 weeks'],fnt=['sans-serif',8,10],\n",
    "                  title=True,stat_test='Wilcoxon',ast_loc='inside',export=True)\n",
    "\n",
    "# EC: Increase in alpha band power from post-treatment to follow-up in right hemisphere\n",
    "plot_boxplot_band(df_psd_ch,regions=['FC6','T8','C4'],band='Alpha',\n",
    "                  condition_comp_list=condition_code_list,\n",
    "                  condition_legend=['Baseline','6 weeks','10 weeks'],fnt=['sans-serif',8,10],\n",
    "                  title=True,stat_test='Wilcoxon',ast_loc='inside',export=True)\n",
    "\n",
    "# plot_boxplot_band(df_psd_ch,regions=['PO3','P4','FC6'],band='High-Beta',\n",
    "#                   condition_comp_list=condition_code_list,\n",
    "#                   condition_legend=['Baseline','6 weeks','10 weeks'],fnt=['sans-serif',8,10],\n",
    "#                   title=True,stat_test='Wilcoxon',ast_loc='outside',export=False)\n",
    "\n",
    "# plot_boxplot_band(df_psd_ch,regions=['PO3','P8'],band='Alpha',\n",
    "#                   condition_comp_list=condition_code_list,\n",
    "#                   condition_legend=['Baseline','6 weeks','10 weeks'],fnt=['sans-serif',8,10],\n",
    "#                   title=True,stat_test='Wilcoxon',ast_loc='inside',export=False)"
   ]
  },
  {
   "cell_type": "code",
   "execution_count": null,
   "metadata": {},
   "outputs": [],
   "source": [
    "plot_boxplot_band(df_psd_ch,regions=['F3','Fz','Cz'],band='Theta',\n",
    "                  condition_comp_list=condition_code_list,\n",
    "                  condition_legend=['Baseline','6 weeks','10 weeks'],fnt=['sans-serif',8,10],\n",
    "                  title=True,stat_test='Wilcoxon',ast_loc='inside',export=False)"
   ]
  },
  {
   "cell_type": "code",
   "execution_count": null,
   "metadata": {},
   "outputs": [],
   "source": [
    "# plt.figure()\n",
    "# ax = sns.violinplot(x='Frequency band', y='Frontal',\n",
    "#                  hue='Condition',\n",
    "#                  data=df_psd_reg[df_psd_reg['Frequency band'] == 'Low-Beta'])\n",
    "# ax = sns.swarmplot(x='Frequency band', y='Frontal',\n",
    "#                    hue='Condition', color='0.01', dodge=True,\n",
    "#                    data=df_psd_reg[df_psd_reg['Frequency band'] == 'Low-Beta'])"
   ]
  }
 ],
 "metadata": {
  "interpreter": {
   "hash": "6980567cbf5ae1dab0878594adb4a731942576fd835dcd2800e6d85cfc759ac0"
  },
  "kernelspec": {
   "display_name": "Python 3.9.12 64-bit",
   "language": "python",
   "name": "python3"
  },
  "language_info": {
   "codemirror_mode": {
    "name": "ipython",
    "version": 3
   },
   "file_extension": ".py",
   "mimetype": "text/x-python",
   "name": "python",
   "nbconvert_exporter": "python",
   "pygments_lexer": "ipython3",
   "version": "3.9.12"
  },
  "orig_nbformat": 4
 },
 "nbformat": 4,
 "nbformat_minor": 2
}
