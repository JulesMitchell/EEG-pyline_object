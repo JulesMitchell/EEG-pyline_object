{
 "cells": [
  {
   "cell_type": "markdown",
   "metadata": {
    "pycharm": {
     "name": "#%% md\n"
    }
   },
   "source": [
    "**Spectral analysis**\n",
    "\n",
    "Change these parameters! Set the folder of EEG files.\n",
    "\n",
    "*NB! The path has to be in 'Data\\Clean\\' folder relative to this notebook.*"
   ]
  },
  {
   "cell_type": "code",
   "execution_count": null,
   "metadata": {
    "pycharm": {
     "name": "#%%\n"
    }
   },
   "outputs": [],
   "source": [
    "\"\"\"\n",
    "VARIABLES TO CHANGE\n",
    "exp_folder: A relative folder location of the experiment (e.g. r\"Eyes Closed\\Baseline\")\n",
    "exp_condition: A short code of the experiment which will be used for exporting (e.g. r\"EC_00\")\n",
    "b_names: A list of bands names\n",
    "b_freqs: A list of bands' frequency ranges\n",
    "\"\"\"\n",
    "exp_folder = r\"Eyes Closed\\Baseline\"\n",
    "exp_condition = r\"EC_00\"\n",
    "b_names = ['Delta','Theta','Alpha','Low-Beta','High-Beta']\n",
    "#b_freqs = [[0.5,3],[3.1,6.5],[6.6,12],[12.1,18],[18.1,30]]\n",
    "b_freqs = [[1,3.9],[4,7.9],[8,12],[12.1,18],[18.1,30]]"
   ]
  },
  {
   "cell_type": "markdown",
   "metadata": {
    "pycharm": {
     "name": "#%% md\n"
    }
   },
   "source": [
    "Just run this script! It conducts spectral analysis on clean EEG files and save the results regionally and channel-by-channel in Excel format.\n",
    "It does the following step-by-step:\n",
    "1. Read raw FIF file (cleaned EEG file)\n",
    "2. Calculate power spectrum density for the current file\n",
    "3. Calculate bandpower for each frequency band of interest (e.g., delta, theta, alpha, low-beta, high-beta)\n",
    "4. Split the signal to half for each band and plot the comparison if the median absolute deviation is over 2 across the signal\n",
    "5. Plot all the frequency bands topographically\n",
    "6. Attempt to create a folder and save the bandpowers regionally and channel-by-channel to Excel files"
   ]
  },
  {
   "cell_type": "code",
   "execution_count": null,
   "metadata": {
    "pycharm": {
     "name": "#%%\n"
    }
   },
   "outputs": [],
   "source": [
    "from Functions.fn_spectralanalysis import *\n",
    "from Functions.fn_basic import read_files, array_to_df, df_channels_to_regions\n",
    "\n",
    "import os, mne\n",
    "import pandas as pd\n",
    "import seaborn as sns\n",
    "import matplotlib.pyplot as plt\n",
    "\n",
    "clean_folder = r\"Data\\Clean\"\n",
    "dir_inprogress = os.path.join(clean_folder,exp_folder)\n",
    "file_dirs, subject_names = read_files(dir_inprogress,\"_clean-epo.fif\")\n",
    "df_faa = pd.DataFrame(columns=['Pre-frontal','Mid-frontal','Lateral-frontal'])\n",
    "\n",
    "# Go through all the files (subjects) in the folder\n",
    "for i in range(len(file_dirs)):\n",
    "    # Read the clean data from the disk\n",
    "    epochs = mne.read_epochs(fname='{}\\{}_clean-epo.fif'.format(dir_inprogress,subject_names[i]),verbose=False)\n",
    "    \n",
    "    # Calculate Welch's power spectrum density (FFT)\n",
    "    [psds,freqs] = calculate_psd(epochs,subject_names[i],epo_duration=2,fminmax=[1,100],window='hamming')\n",
    "\n",
    "    # Total PSD of chosen frequency range\n",
    "    psd_ch_allbands = bandpower_per_channel(psds,freqs,[b_freqs[0][0],b_freqs[-1][-1]],'All bands',subject_names[i],epochs)\n",
    "    \n",
    "    # Find power for all bands and add to dataframe including the previous subjects\n",
    "    vmin = float('inf')\n",
    "    vmax = 0\n",
    "    for j in range(len(b_names)):\n",
    "        if i == 0:\n",
    "            globals()[\"df_psd_\"+b_names[j]] = pd.DataFrame()\n",
    "            globals()[\"df_rel_psd_\"+b_names[j]] = pd.DataFrame()\n",
    "        \n",
    "        # Devide the PSD to frequency band bins and calculate absolute and relative bandpowers\n",
    "        globals()[\"psd_ch_\"+b_names[j]] = bandpower_per_channel(psds,freqs,b_freqs[j],b_names[j],subject_names[i],epochs)\n",
    "        globals()[\"rel_psd_ch_\"+b_names[j]] = globals()[\"psd_ch_\"+b_names[j]] / psd_ch_allbands\n",
    "\n",
    "        # Convert the array to dataframe and concatenate it to dataframe including the previous subjects\n",
    "        globals()[\"temp_df_psd_\"+b_names[j]] = array_to_df(subject_names[i],epochs,globals()[\"psd_ch_\"+b_names[j]])\n",
    "        globals()[\"df_psd_\"+b_names[j]] = pd.concat([globals()[\"df_psd_\"+b_names[j]],globals()[\"temp_df_psd_\"+b_names[j]]])\n",
    "        globals()[\"temp_df_rel_psd_\"+b_names[j]] = array_to_df(subject_names[i],epochs,globals()[\"rel_psd_ch_\"+b_names[j]])\n",
    "        globals()[\"df_rel_psd_\"+b_names[j]] = pd.concat([globals()[\"df_rel_psd_\"+b_names[j]],globals()[\"temp_df_rel_psd_\"+b_names[j]]])\n",
    "\n",
    "        # Save the minimum and maximum PSD values as an integer for later colorbar use\n",
    "        vmin = min([vmin,min(globals()[\"psd_ch_\"+b_names[j]])])\n",
    "        vmax = max([vmax,max(globals()[\"psd_ch_\"+b_names[j]])])\n",
    "\n",
    "    # Plot topomaps for all bands\n",
    "    sns.set_style(\"white\",{'font.family': ['sans-serif']})\n",
    "    fig,axs = plt.subplots(nrows=1,ncols=len(b_names),figsize=(10,3))\n",
    "    fig.suptitle(\"Frequency topomaps ({})\".format(subject_names[i]))\n",
    "    for topo in range(len(b_names)):\n",
    "        im,_ = mne.viz.plot_topomap(globals()[\"psd_ch_\"+b_names[topo]],epochs.info,axes=axs[topo],vmin=vmin,vmax=vmax,show=False)\n",
    "        axs[topo].set_title(b_names[topo]+'\\n'+str(b_freqs[topo]))\n",
    "    cbar_ax = fig.add_axes([0.95,0.35,0.04,0.4])\n",
    "    clb = fig.colorbar(im, cax=cbar_ax)\n",
    "    clb.ax.set_ylabel('uV\\u00b2/Hz')\n",
    "\n",
    "df_faa['Pre-frontal'] = (df_psd_Alpha['Fp1'] - df_psd_Alpha['Fp2'])/(df_psd_Alpha['Fp1'] + df_psd_Alpha['Fp2'])*100\n",
    "df_faa['Mid-frontal'] = (df_psd_Alpha['F3'] - df_psd_Alpha['F4'])/(df_psd_Alpha['F3'] + df_psd_Alpha['F4'])*100\n",
    "df_faa['Lateral-frontal'] = (df_psd_Alpha['F7'] - df_psd_Alpha['F8'])/(df_psd_Alpha['F7'] + df_psd_Alpha['F8'])*100\n",
    "# df_faa['Pre-frontal'] = np.log(df_psd_Alpha['Fp1'])-np.log(df_psd_Alpha['Fp2'])\n",
    "# df_faa['Mid-frontal'] = np.log(df_psd_Alpha['F3'])-np.log(df_psd_Alpha['F4'])\n",
    "# df_faa['Lateral-frontal'] = np.log(df_psd_Alpha['F7'])-np.log(df_psd_Alpha['F8'])\n",
    "\n",
    "# Try to pre-create folders for PSD results\n",
    "try:\n",
    "    os.makedirs(os.path.join(r\"Results\\Absolute PSD\\channels\",exp_folder))\n",
    "except FileExistsError:\n",
    "    pass\n",
    "try:\n",
    "    os.makedirs(os.path.join(r\"Results\\Absolute PSD\\regions\",exp_folder))\n",
    "except FileExistsError:\n",
    "    pass\n",
    "try:\n",
    "    os.makedirs(os.path.join(r\"Results\\Relative PSD\\channels\",exp_folder))\n",
    "except FileExistsError:\n",
    "    pass\n",
    "try:\n",
    "    os.makedirs(os.path.join(r\"Results\\Relative PSD\\regions\",exp_folder))\n",
    "except FileExistsError:\n",
    "    pass\n",
    "\n",
    "df_faa.to_excel(r\"Results\\Absolute PSD\\{}_frontal_asymmetry.xlsx\".format(exp_condition))\n",
    "\n",
    "for band in b_names:\n",
    "    # Save the PSD values for each channel for each band in Excel format\n",
    "    globals()[\"df_psd_\"+band].to_excel(r\"Results\\Absolute PSD\\channels\\{}\\{}_psd_{}.xlsx\".format(exp_folder,exp_condition,band))\n",
    "    globals()[\"df_rel_psd_\"+band].to_excel(r\"Results\\Relative PSD\\channels\\{}\\{}_rel_psd_{}.xlsx\".format(exp_folder,exp_condition,band))\n",
    "\n",
    "    # Find regional band powers and save them to Excel as well\n",
    "    globals()[\"df_psd_reg_\"+band] = df_channels_to_regions(globals()[\"df_psd_\"+band])\n",
    "    globals()[\"df_psd_reg_\"+band].to_excel(r\"Results\\Absolute PSD\\regions\\{}\\{}_psd_{}.xlsx\".format(exp_folder,exp_condition,band))\n",
    "    globals()[\"df_rel_psd_reg_\"+band] = df_channels_to_regions(globals()[\"df_rel_psd_\"+band])\n",
    "    globals()[\"df_rel_psd_reg_\"+band].to_excel(r\"Results\\Relative PSD\\regions\\{}\\{}_rel_psd_{}.xlsx\".format(exp_folder,exp_condition,band))"
   ]
  }
 ],
 "metadata": {
  "kernelspec": {
   "display_name": "Python 3.10.4 ('eeg-pipeline')",
   "language": "python",
   "name": "python3"
  },
  "language_info": {
   "codemirror_mode": {
    "name": "ipython",
    "version": 3
   },
   "file_extension": ".py",
   "mimetype": "text/x-python",
   "name": "python",
   "nbconvert_exporter": "python",
   "pygments_lexer": "ipython3",
   "version": "3.10.4"
  },
  "orig_nbformat": 4,
  "vscode": {
   "interpreter": {
    "hash": "449a69c367d866a1f52d4e7c9431ac7e4787861d219d79444dd1c121c4a22fc7"
   }
  }
 },
 "nbformat": 4,
 "nbformat_minor": 2
}
